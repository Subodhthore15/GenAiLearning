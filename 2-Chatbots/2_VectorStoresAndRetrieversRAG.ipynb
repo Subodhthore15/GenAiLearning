{
 "cells": [
  {
   "cell_type": "code",
   "execution_count": 1,
   "metadata": {},
   "outputs": [],
   "source": [
    "# What is document\n",
    "from langchain_core.documents import Document\n",
    "\n",
    "#from langchain.docstore.document import Document\n",
    "\n",
    "documents = [\n",
    "    # Example 1: Simple text document\n",
    "    Document(\n",
    "        page_content=\"Hello world\",\n",
    "        metadata={\"source\": \"world.txt\"}\n",
    "    ),\n",
    "    \n",
    "    # Example 2: Article with author and date metadata\n",
    "    Document(\n",
    "        page_content=\"Climate change is impacting global weather patterns...\",\n",
    "        metadata={\"source\": \"news_article.txt\", \"author\": \"Jane Doe\", \"date\": \"2023-08-15\"}\n",
    "    ),\n",
    "    \n",
    "    # Example 3: Research paper with DOI and journal information\n",
    "    Document(\n",
    "        page_content=\"In this study, we explore the effects of machine learning on healthcare...\",\n",
    "        metadata={\"source\": \"research_paper.pdf\", \"DOI\": \"10.1234/example.doi\", \"journal\": \"Journal of AI Research\"}\n",
    "    ),\n",
    "    \n",
    "    # Example 4: Blog post with tags\n",
    "    Document(\n",
    "        page_content=\"Top 10 Python libraries for data science...\",\n",
    "        metadata={\"source\": \"blog_post.html\", \"author\": \"Data Guru\"}\n",
    "    ),\n",
    "    \n",
    "    # Example 5: Product review with rating\n",
    "    Document(\n",
    "        page_content=\"This laptop has excellent battery life but the screen resolution is lacking...\",\n",
    "        metadata={\"source\": \"product_review.txt\", \"product_name\": \"XYZ Laptop\", \"rating\": 4.5}\n",
    "    ),\n",
    "    \n",
    "    # Example 6: Transcript of a conversation\n",
    "    Document(\n",
    "        page_content=\"Person A: How are you doing today?\\nPerson B: I'm doing great, thank you!\",\n",
    "        metadata={\"source\": \"conversation.txt\", \"date\": \"2023-08-18\"}\n",
    "    ),\n",
    "    \n",
    "    # Example 7: Technical documentation with version info\n",
    "    Document(\n",
    "        page_content=\"This document explains the API for version 2.0 of the software...\",\n",
    "        metadata={\"source\": \"api_docs.pdf\", \"version\": \"2.0\", \"product\": \"MySoftware\"}\n",
    "    ),\n",
    "    \n",
    "    # Example 8: Code snippet with programming language info\n",
    "    Document(\n",
    "        page_content=\"def add(a, b):\\n    return a + b\",\n",
    "        metadata={\"source\": \"code_snippet.py\", \"language\": \"Python\"}\n",
    "    ),\n",
    "    \n",
    "    # Example 9: Email content with sender and recipient information\n",
    "    Document(\n",
    "        page_content=\"Hi Team,\\nPlease find the attached report for Q3...\",\n",
    "        metadata={\"source\": \"email.txt\", \"sender\": \"boss@example.com\", \"recipient\": \"team@example.com\", \"date\": \"2023-08-10\"}\n",
    "    ),\n",
    "    \n",
    "    # Example 10: Book chapter with title and chapter number\n",
    "    Document(\n",
    "        page_content=\"In this chapter, we explore the fundamentals of quantum mechanics...\",\n",
    "        metadata={\"source\": \"book.pdf\", \"title\": \"Introduction to Quantum Mechanics\", \"chapter\": 3}\n",
    "    )\n",
    "]\n"
   ]
  },
  {
   "cell_type": "code",
   "execution_count": 2,
   "metadata": {},
   "outputs": [
    {
     "data": {
      "text/plain": [
       "[Document(metadata={'source': 'world.txt'}, page_content='Hello world'),\n",
       " Document(metadata={'source': 'news_article.txt', 'author': 'Jane Doe', 'date': '2023-08-15'}, page_content='Climate change is impacting global weather patterns...'),\n",
       " Document(metadata={'source': 'research_paper.pdf', 'DOI': '10.1234/example.doi', 'journal': 'Journal of AI Research'}, page_content='In this study, we explore the effects of machine learning on healthcare...'),\n",
       " Document(metadata={'source': 'blog_post.html', 'author': 'Data Guru'}, page_content='Top 10 Python libraries for data science...'),\n",
       " Document(metadata={'source': 'product_review.txt', 'product_name': 'XYZ Laptop', 'rating': 4.5}, page_content='This laptop has excellent battery life but the screen resolution is lacking...'),\n",
       " Document(metadata={'source': 'conversation.txt', 'date': '2023-08-18'}, page_content=\"Person A: How are you doing today?\\nPerson B: I'm doing great, thank you!\"),\n",
       " Document(metadata={'source': 'api_docs.pdf', 'version': '2.0', 'product': 'MySoftware'}, page_content='This document explains the API for version 2.0 of the software...'),\n",
       " Document(metadata={'source': 'code_snippet.py', 'language': 'Python'}, page_content='def add(a, b):\\n    return a + b'),\n",
       " Document(metadata={'source': 'email.txt', 'sender': 'boss@example.com', 'recipient': 'team@example.com', 'date': '2023-08-10'}, page_content='Hi Team,\\nPlease find the attached report for Q3...'),\n",
       " Document(metadata={'source': 'book.pdf', 'title': 'Introduction to Quantum Mechanics', 'chapter': 3}, page_content='In this chapter, we explore the fundamentals of quantum mechanics...')]"
      ]
     },
     "execution_count": 2,
     "metadata": {},
     "output_type": "execute_result"
    }
   ],
   "source": [
    "documents"
   ]
  },
  {
   "cell_type": "code",
   "execution_count": 5,
   "metadata": {},
   "outputs": [],
   "source": [
    "import os\n",
    "from dotenv import load_dotenv\n",
    "load_dotenv()\n",
    "\n",
    "os.environ[\"GROQ_API_KEY\"] = os.getenv(\"GROQ_API_KEY\")\n",
    "os.environ[\"HUGGING_FACE_TOKEN\"] = os.getenv(\"HUGGING_FACE_TOKEN\")"
   ]
  },
  {
   "cell_type": "markdown",
   "metadata": {},
   "source": [
    "### Vector Store\n",
    "Use OLLAMA embeddings -> as of now"
   ]
  },
  {
   "cell_type": "code",
   "execution_count": 6,
   "metadata": {},
   "outputs": [],
   "source": [
    "from langchain_chroma import Chroma\n",
    "from langchain_groq import ChatGroq\n",
    "from langchain_community.embeddings import OllamaEmbeddings\n",
    "\n",
    "embeddings =OllamaEmbeddings(model = \"gemma2:2b\")\n",
    "llm = ChatGroq(model=\"llama3-8b-8192\")"
   ]
  },
  {
   "cell_type": "code",
   "execution_count": 6,
   "metadata": {},
   "outputs": [],
   "source": [
    "#from langchain_huggingface import HuggingFaceEmbeddings\n",
    "#HuggingFaceEmbeddings(model_name = \"all-MiniLM-L6-v2\")"
   ]
  },
  {
   "cell_type": "code",
   "execution_count": 7,
   "metadata": {},
   "outputs": [],
   "source": [
    "#vectorStore = Chroma.from_documents(documents=documents,embedding=embeddings)"
   ]
  },
  {
   "cell_type": "code",
   "execution_count": 9,
   "metadata": {},
   "outputs": [],
   "source": [
    "from langchain_community.vectorstores import FAISS\n",
    "\n",
    "vectorStore = FAISS.from_documents(documents, embeddings)"
   ]
  },
  {
   "cell_type": "code",
   "execution_count": 12,
   "metadata": {},
   "outputs": [
    {
     "data": {
      "text/plain": [
       "[Document(metadata={'source': 'world.txt'}, page_content='Hello world'),\n",
       " Document(metadata={'source': 'api_docs.pdf', 'version': '2.0', 'product': 'MySoftware'}, page_content='This document explains the API for version 2.0 of the software...'),\n",
       " Document(metadata={'source': 'book.pdf', 'title': 'Introduction to Quantum Mechanics', 'chapter': 3}, page_content='In this chapter, we explore the fundamentals of quantum mechanics...'),\n",
       " Document(metadata={'source': 'research_paper.pdf', 'DOI': '10.1234/example.doi', 'journal': 'Journal of AI Research'}, page_content='In this study, we explore the effects of machine learning on healthcare...')]"
      ]
     },
     "execution_count": 12,
     "metadata": {},
     "output_type": "execute_result"
    }
   ],
   "source": [
    "vectorStore.similarity_search(\"Python language for programming\")"
   ]
  },
  {
   "cell_type": "code",
   "execution_count": 14,
   "metadata": {},
   "outputs": [
    {
     "data": {
      "text/plain": [
       "[Document(metadata={'source': 'world.txt'}, page_content='Hello world'),\n",
       " Document(metadata={'source': 'api_docs.pdf', 'version': '2.0', 'product': 'MySoftware'}, page_content='This document explains the API for version 2.0 of the software...'),\n",
       " Document(metadata={'source': 'book.pdf', 'title': 'Introduction to Quantum Mechanics', 'chapter': 3}, page_content='In this chapter, we explore the fundamentals of quantum mechanics...'),\n",
       " Document(metadata={'source': 'research_paper.pdf', 'DOI': '10.1234/example.doi', 'journal': 'Journal of AI Research'}, page_content='In this study, we explore the effects of machine learning on healthcare...')]"
      ]
     },
     "execution_count": 14,
     "metadata": {},
     "output_type": "execute_result"
    }
   ],
   "source": [
    "## Async query \n",
    "await vectorStore.asimilarity_search(\"Python language for programming\")\n"
   ]
  },
  {
   "cell_type": "code",
   "execution_count": 22,
   "metadata": {},
   "outputs": [
    {
     "data": {
      "text/plain": [
       "[[Document(metadata={'source': 'world.txt'}, page_content='Hello world')],\n",
       " [Document(metadata={'source': 'world.txt'}, page_content='Hello world')]]"
      ]
     },
     "execution_count": 22,
     "metadata": {},
     "output_type": "execute_result"
    }
   ],
   "source": [
    "# Retriver => Runnable : can be combine and chain together to perform task on LLM.\n",
    "\n",
    "from typing import List\n",
    "from langchain_core.documents import Document\n",
    "from langchain_core.runnables import RunnableLambda\n",
    "\n",
    "#1] method 1 to create retriver: RunnableLambda\n",
    "\n",
    "retriever = RunnableLambda(vectorStore.similarity_search).bind(k=1)\n",
    "\n",
    "retriever.batch([\"python programming\", \"add two number\"])"
   ]
  },
  {
   "cell_type": "code",
   "execution_count": 23,
   "metadata": {},
   "outputs": [],
   "source": [
    "# 2] Method 2 to create retriver \n",
    "vectorRetriever=vectorStore.as_retriever(\n",
    "    search_type = \"similarity\",\n",
    "    search_kwargs={\"k\":1}\n",
    ")"
   ]
  },
  {
   "cell_type": "code",
   "execution_count": 31,
   "metadata": {},
   "outputs": [
    {
     "data": {
      "text/plain": [
       "[[Document(metadata={'source': 'world.txt'}, page_content='Hello world')],\n",
       " [Document(metadata={'source': 'world.txt'}, page_content='Hello world')]]"
      ]
     },
     "execution_count": 31,
     "metadata": {},
     "output_type": "execute_result"
    }
   ],
   "source": [
    "vectorRetriever.batch([\"code\"])"
   ]
  },
  {
   "cell_type": "code",
   "execution_count": 32,
   "metadata": {},
   "outputs": [
    {
     "data": {
      "text/plain": [
       "[Document(metadata={'source': 'code_snippet.py', 'language': 'Python'}, page_content='def add(a, b):\\n    return a + b')]"
      ]
     },
     "execution_count": 32,
     "metadata": {},
     "output_type": "execute_result"
    }
   ],
   "source": [
    "vectorRetriever.invoke(\"python \")"
   ]
  },
  {
   "cell_type": "code",
   "execution_count": 8,
   "metadata": {},
   "outputs": [
    {
     "ename": "NameError",
     "evalue": "name 'vectorRetriever' is not defined",
     "output_type": "error",
     "traceback": [
      "\u001b[1;31m---------------------------------------------------------------------------\u001b[0m",
      "\u001b[1;31mNameError\u001b[0m                                 Traceback (most recent call last)",
      "Cell \u001b[1;32mIn[8], line 27\u001b[0m\n\u001b[0;32m     19\u001b[0m prompt \u001b[38;5;241m=\u001b[39m ChatPromptTemplate\u001b[38;5;241m.\u001b[39mfrom_messages(\n\u001b[0;32m     20\u001b[0m     [\n\u001b[0;32m     21\u001b[0m         (\u001b[38;5;124m\"\u001b[39m\u001b[38;5;124mhuman\u001b[39m\u001b[38;5;124m\"\u001b[39m,message)\n\u001b[0;32m     22\u001b[0m     ]\n\u001b[0;32m     23\u001b[0m )\n\u001b[0;32m     25\u001b[0m \u001b[38;5;66;03m# pass retriver and LLM\u001b[39;00m\n\u001b[1;32m---> 27\u001b[0m ragChain \u001b[38;5;241m=\u001b[39m {\u001b[38;5;124m\"\u001b[39m\u001b[38;5;124mcontext\u001b[39m\u001b[38;5;124m\"\u001b[39m:\u001b[43mvectorRetriever\u001b[49m, \u001b[38;5;124m\"\u001b[39m\u001b[38;5;124mquestion\u001b[39m\u001b[38;5;124m\"\u001b[39m:RunnablePassthrough()}\n\u001b[0;32m     29\u001b[0m chain \u001b[38;5;241m=\u001b[39m ragChain\u001b[38;5;241m|\u001b[39mprompt\u001b[38;5;241m|\u001b[39mllm\n\u001b[0;32m     31\u001b[0m response \u001b[38;5;241m=\u001b[39m chain\u001b[38;5;241m.\u001b[39minvoke(\u001b[38;5;124m\"\u001b[39m\u001b[38;5;124mTell me about fundamental\u001b[39m\u001b[38;5;124m\"\u001b[39m)\n",
      "\u001b[1;31mNameError\u001b[0m: name 'vectorRetriever' is not defined"
     ]
    }
   ],
   "source": [
    "from langchain_core.prompts import ChatPromptTemplate\n",
    "from langchain_core.runnables import RunnablePassthrough\n",
    "\n",
    "# RunnablePassThrough is like a conveyor belt: it takes input, does nothing to it, \n",
    "# and passes it along to the next step.\n",
    "#It doesn’t process or transform the input in any way; it just moves the data forward.\n",
    "\n",
    "\n",
    "message = \"\"\"\n",
    "Answer the question using the provided context only.\n",
    "{question}. \n",
    "\n",
    "context: \n",
    "{context}. \n",
    "\n",
    " \"\"\"\n",
    "\n",
    "\n",
    "\n",
    "prompt = ChatPromptTemplate.from_messages(\n",
    "    [\n",
    "        (\"human\",message)\n",
    "    ]\n",
    ")\n",
    "\n",
    "# pass retriver and LLM\n",
    "\n",
    "ragChain = {\"context\":vectorRetriever, \"question\":RunnablePassthrough()}\n",
    "\n",
    "chain = ragChain|prompt|llm\n",
    "\n",
    "response = chain.invoke(\"Tell me about fundamental\")"
   ]
  },
  {
   "cell_type": "code",
   "execution_count": 37,
   "metadata": {},
   "outputs": [
    {
     "data": {
      "text/plain": [
       "AIMessage(content=\"Since the provided context is a document with metadata and page content, I'm assuming you're asking about the fundamental nature of this document. \\n\\nIn that case, the fundamental aspect of this document is its basic structure, which consists of metadata (source) and page content (Hello world). These two components provide the essential information about the document, making it a fundamental unit of communication.\", response_metadata={'token_usage': {'completion_tokens': 77, 'prompt_tokens': 47, 'total_tokens': 124, 'completion_time': 0.064166667, 'prompt_time': 0.009983879, 'queue_time': 0.0036966210000000006, 'total_time': 0.074150546}, 'model_name': 'llama3-8b-8192', 'system_fingerprint': 'fp_6a6771ae9c', 'finish_reason': 'stop', 'logprobs': None}, id='run-05795e72-f753-4905-aa83-9ab8d566fe73-0', usage_metadata={'input_tokens': 47, 'output_tokens': 77, 'total_tokens': 124})"
      ]
     },
     "execution_count": 37,
     "metadata": {},
     "output_type": "execute_result"
    }
   ],
   "source": [
    "response"
   ]
  },
  {
   "cell_type": "code",
   "execution_count": null,
   "metadata": {},
   "outputs": [],
   "source": []
  },
  {
   "cell_type": "code",
   "execution_count": null,
   "metadata": {},
   "outputs": [],
   "source": []
  },
  {
   "cell_type": "markdown",
   "metadata": {},
   "source": []
  },
  {
   "cell_type": "code",
   "execution_count": null,
   "metadata": {},
   "outputs": [],
   "source": []
  }
 ],
 "metadata": {
  "kernelspec": {
   "display_name": ".venv",
   "language": "python",
   "name": "python3"
  },
  "language_info": {
   "codemirror_mode": {
    "name": "ipython",
    "version": 3
   },
   "file_extension": ".py",
   "mimetype": "text/x-python",
   "name": "python",
   "nbconvert_exporter": "python",
   "pygments_lexer": "ipython3",
   "version": "3.11.0"
  }
 },
 "nbformat": 4,
 "nbformat_minor": 2
}
